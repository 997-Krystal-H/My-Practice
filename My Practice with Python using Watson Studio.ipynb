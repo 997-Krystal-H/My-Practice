{
    "cells": [
        {
            "cell_type": "markdown",
            "metadata": {
                "collapsed": true
            },
            "source": "# My Jupyter Notebook on IBM Watson Studio"
        },
        {
            "cell_type": "markdown",
            "metadata": {},
            "source": "**Name: Krystal Si Huang**\n\nCurrent occupation: a graduate student at the University of Toronto"
        },
        {
            "cell_type": "markdown",
            "metadata": {},
            "source": "*I am interested in Data Science because it offers an opportunity to make sense of nonsense. It also helps us see the unseen.*"
        },
        {
            "cell_type": "markdown",
            "metadata": {},
            "source": "### The following code displays the first 10 square numbers:"
        },
        {
            "cell_type": "code",
            "execution_count": 3,
            "metadata": {},
            "outputs": [
                {
                    "name": "stdout",
                    "output_type": "stream",
                    "text": "1\n4\n9\n16\n25\n36\n49\n64\n81\n100\n"
                }
            ],
            "source": "for n in range(1,11):\n    print(n**2)"
        },
        {
            "cell_type": "markdown",
            "metadata": {},
            "source": "I am gonna insert a horizontal rule first...\n***\n\nokay, now let's create a bulleted list.\n\nThe **University of Toronto** has three campuses:\n* St. George\n* Mississauga\n* Scarborough\n\nYou can click the [link](https://www.utoronto.ca/) to visit the university's official website. \n\n"
        }
    ],
    "metadata": {
        "kernelspec": {
            "display_name": "Python 3.6",
            "language": "python",
            "name": "python3"
        },
        "language_info": {
            "codemirror_mode": {
                "name": "ipython",
                "version": 3
            },
            "file_extension": ".py",
            "mimetype": "text/x-python",
            "name": "python",
            "nbconvert_exporter": "python",
            "pygments_lexer": "ipython3",
            "version": "3.6.9"
        }
    },
    "nbformat": 4,
    "nbformat_minor": 1
}