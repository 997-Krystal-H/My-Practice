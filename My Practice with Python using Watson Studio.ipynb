{
    "cells": [
        {
            "metadata": {
                "collapsed": true
            },
            "cell_type": "markdown",
            "source": "# My Jupyter Notebook on IBM Watson Studio"
        },
        {
            "metadata": {},
            "cell_type": "markdown",
            "source": "**Name: Krystal Si Huang**\n\nCurrent occupation: a graduate student at the University of Toronto"
        },
        {
            "metadata": {},
            "cell_type": "markdown",
            "source": "*I am interested in Data Science because it offers an opportunity to make sense of nonsense. It also helps us see the unseen.*"
        },
        {
            "metadata": {},
            "cell_type": "markdown",
            "source": "### The following code displays the first 10 square numbers:"
        },
        {
            "metadata": {},
            "cell_type": "code",
            "source": "for n in range(1,11):\n    print(n**2)",
            "execution_count": 3,
            "outputs": [
                {
                    "output_type": "stream",
                    "text": "1\n4\n9\n16\n25\n36\n49\n64\n81\n100\n",
                    "name": "stdout"
                }
            ]
        },
        {
            "metadata": {},
            "cell_type": "markdown",
            "source": "I am gonna insert a horizontal rule first...\n***\n\nokay, now let's create a bulleted list.\n\nThe **University of Toronto** has three campuses:\n* St. George\n* Mississauga\n* Scarborough\n\nYou can click the [link](https://www.utoronto.ca/) to visit the university's official website. \n\n"
        }
    ],
    "metadata": {
        "kernelspec": {
            "name": "python3",
            "display_name": "Python 3.6",
            "language": "python"
        },
        "language_info": {
            "name": "python",
            "version": "3.6.9",
            "mimetype": "text/x-python",
            "codemirror_mode": {
                "name": "ipython",
                "version": 3
            },
            "pygments_lexer": "ipython3",
            "nbconvert_exporter": "python",
            "file_extension": ".py"
        }
    },
    "nbformat": 4,
    "nbformat_minor": 1
}